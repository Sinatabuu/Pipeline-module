{
 "cells": [
  {
   "cell_type": "code",
   "execution_count": 13,
   "id": "5dead3e2",
   "metadata": {},
   "outputs": [
    {
     "name": "stdout",
     "output_type": "stream",
     "text": [
      "(70, 2)\n",
      "topic\n",
      "love        10\n",
      "faith       10\n",
      "strength    10\n",
      "peace       10\n",
      "courage     10\n",
      "comfort     10\n",
      "truth       10\n",
      "Name: count, dtype: int64\n",
      "✅ Model trained successfully.\n",
      "✅ Saved as model.pkl and vectorizer.pkl\n"
     ]
    }
   ],
   "source": [
    "import pandas as pd\n",
    "from sklearn.feature_extraction.text import TfidfVectorizer\n",
    "from sklearn.linear_model import LogisticRegression\n",
    "import joblib\n",
    "\n",
    "\n",
    "\n",
    "# Load the training data\n",
    "df = pd.read_csv(r\"C:\\Users\\User\\Downloads\\Pipeline-Module\\data\\verse_training_data.csv\")\n",
    "print(df.shape)\n",
    "print(df['topic'].value_counts())\n",
    "df.head()\n",
    "\n",
    "\n",
    "X = df['verse']\n",
    "y = df['topic']\n",
    "\n",
    "# Vectorize the verses\n",
    "vectorizer = TfidfVectorizer()\n",
    "X_vect = vectorizer.fit_transform(X)\n",
    "\n",
    "model = LogisticRegression()\n",
    "model.fit(X_vect, y)\n",
    "\n",
    "print(\"✅ Model trained successfully.\")\n",
    "\n",
    "# Save both files to the models folder\n",
    "joblib.dump(model, r\"C:\\Users\\User\\Downloads\\Pipeline-Module\\models\\model.pkl\")\n",
    "joblib.dump(vectorizer, r\"C:\\Users\\User\\Downloads\\Pipeline-Module\\models\\vectorizer.pkl\")\n",
    "\n",
    "print(\"✅ Saved as model.pkl and vectorizer.pkl\")\n",
    "\n"
   ]
  },
  {
   "cell_type": "markdown",
   "id": "19d377bd",
   "metadata": {},
   "source": []
  }
 ],
 "metadata": {
  "kernelspec": {
   "display_name": "Python 3",
   "language": "python",
   "name": "python3"
  },
  "language_info": {
   "codemirror_mode": {
    "name": "ipython",
    "version": 3
   },
   "file_extension": ".py",
   "mimetype": "text/x-python",
   "name": "python",
   "nbconvert_exporter": "python",
   "pygments_lexer": "ipython3",
   "version": "3.12.3"
  }
 },
 "nbformat": 4,
 "nbformat_minor": 5
}
