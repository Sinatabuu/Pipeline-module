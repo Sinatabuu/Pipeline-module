{
 "cells": [
  {
   "cell_type": "code",
   "execution_count": null,
   "id": "85ff1826",
   "metadata": {},
   "outputs": [],
   "source": [
    "import pandas as pd\n",
    "from sklearn.feature_extraction.text import TfidfVectorizer\n",
    "from sklearn.linear_model import LogisticRegression\n",
    "import joblib\n"
   ]
  },
  {
   "cell_type": "code",
   "execution_count": null,
   "id": "070effa0",
   "metadata": {},
   "outputs": [],
   "source": [
    "df = pd.read_csv(r\"C:\\Users\\User\\Downloads\\Pipeline-Module\\data\\verse_training_data.csv\")\n",
    "print(df.shape)\n",
    "print(df['topic'].value_counts())\n",
    "df.head()\n"
   ]
  },
  {
   "cell_type": "code",
   "execution_count": null,
   "id": "2c05ace5",
   "metadata": {},
   "outputs": [],
   "source": [
    "X = df['verse']\n",
    "y = df['topic']\n",
    "\n",
    "vectorizer = TfidfVectorizer()\n",
    "X_vect = vectorizer.fit_transform(X)\n",
    "\n",
    "model = LogisticRegression()\n",
    "model.fit(X_vect, y)\n",
    "\n",
    "print(\"✅ Model trained successfully.\")\n"
   ]
  },
  {
   "cell_type": "code",
   "execution_count": null,
   "id": "eb0e203a",
   "metadata": {},
   "outputs": [],
   "source": [
    "joblib.dump(model, \"models/model.pkl\")\n",
    "joblib.dump(vectorizer, \"models/vectorizer.pkl\")\n",
    " \n",
    "\n",
    "print(\"✅ Saved model and vectorizer.\")\n",
    "\n",
    "\n",
    "print(\"✅ Saved model and vectorizer.\")\n"
   ]
  },
  {
   "cell_type": "code",
   "execution_count": 28,
   "id": "1cd202f8",
   "metadata": {},
   "outputs": [
    {
     "name": "stdout",
     "output_type": "stream",
     "text": [
      "✅ Model saved successfully with topics: ['comfort' 'courage' 'faith' 'love' 'peace' 'strength' 'truth']\n"
     ]
    }
   ],
   "source": [
    "import os\n",
    "import joblib\n",
    "from datetime import datetime\n",
    "\n",
    "# Assuming df is still in memory from previous cells\n",
    "X = df['verse']\n",
    "y = df['topic']\n",
    "\n",
    "vectorizer = TfidfVectorizer()\n",
    "X_vect = vectorizer.fit_transform(X)\n",
    "\n",
    "model = LogisticRegression()\n",
    "model.fit(X_vect, y)\n",
    "\n",
    "# Save directory and file paths\n",
    "os.makedirs(\"models\", exist_ok=True)\n",
    "model_path = \"models/model.pkl\"\n",
    "vectorizer_path = \"models/vectorizer.pkl\"\n",
    "timestamp_path = \"models/last_saved.txt\"\n",
    "\n",
    "# Delete old model files if needed\n",
    "if os.path.exists(model_path): os.remove(model_path)\n",
    "if os.path.exists(vectorizer_path): os.remove(vectorizer_path)\n",
    "\n",
    "# Save new model\n",
    "joblib.dump(model, model_path)\n",
    "joblib.dump(vectorizer, vectorizer_path)\n",
    "\n",
    "# Save timestamp\n",
    "with open(timestamp_path, \"w\") as f:\n",
    "    f.write(\"Last model saved: \" + datetime.now().strftime(\"%Y-%m-%d %H:%M:%S\"))\n",
    "\n",
    "print(\"✅ Model saved successfully with topics:\", model.classes_)\n"
   ]
  }
 ],
 "metadata": {
  "kernelspec": {
   "display_name": "Python 3",
   "language": "python",
   "name": "python3"
  },
  "language_info": {
   "codemirror_mode": {
    "name": "ipython",
    "version": 3
   },
   "file_extension": ".py",
   "mimetype": "text/x-python",
   "name": "python",
   "nbconvert_exporter": "python",
   "pygments_lexer": "ipython3",
   "version": "3.12.3"
  }
 },
 "nbformat": 4,
 "nbformat_minor": 5
}
