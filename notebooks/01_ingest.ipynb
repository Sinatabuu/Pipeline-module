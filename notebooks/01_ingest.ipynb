{
 "cells": [
  {
   "cell_type": "code",
   "execution_count": null,
   "id": "c3f2c69a",
   "metadata": {},
   "outputs": [],
   "source": [
    "import requests\n",
    "import pandas as pd\n",
    "\n",
    "# Fetch verse from Bible API\n",
    "response = requests.get(\"https://bible-api.com/john%203:16\")\n",
    "data = response.json()\n",
    "\n",
    "# View result\n",
    "print(data)\n",
    "\n",
    "# Save as DataFrame\n",
    "df = pd.DataFrame([data])\n",
    "df.to_csv(\"../data/raw/john3_16.csv\", index=False)\n",
    "print(\"Saved to data/raw/\")\n"
   ]
  }
 ],
 "metadata": {
  "language_info": {
   "name": "python"
  }
 },
 "nbformat": 4,
 "nbformat_minor": 5
}
