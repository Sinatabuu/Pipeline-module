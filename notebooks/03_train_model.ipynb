{
 "cells": [
  {
   "cell_type": "code",
   "execution_count": null,
   "id": "0f37dbfd",
   "metadata": {
    "vscode": {
     "languageId": "julia"
    }
   },
   "outputs": [],
   "source": [
    "from sklearn.feature_extraction.text import TfidfVectorizer\n",
    "from sklearn.linear_model import LogisticRegression\n",
    "import joblib\n",
    "\n",
    "# Example data\n",
    "X = [\"Jesus loves you\", \"Believe in God\", \"Do not fear\", \"God is good\"]\n",
    "y = [\"love\", \"faith\", \"courage\", \"praise\"]\n",
    "\n",
    "# Vectorize\n",
    "vectorizer = TfidfVectorizer()\n",
    "X_vect = vectorizer.fit_transform(X)\n",
    "\n",
    "# Train\n",
    "model = LogisticRegression()\n",
    "model.fit(X_vect, y)\n",
    "\n",
    "# Save\n",
    "joblib.dump(model, \"../models/model.pkl\")\n",
    "joblib.dump(vectorizer, \"../models/vectorizer.pkl\")\n"
   ]
  }
 ],
 "metadata": {
  "language_info": {
   "name": "python"
  }
 },
 "nbformat": 4,
 "nbformat_minor": 5
}
