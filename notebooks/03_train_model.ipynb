{
 "cells": [
  {
   "cell_type": "code",
   "execution_count": null,
   "id": "0f37dbfd",
   "metadata": {
    "vscode": {
     "languageId": "julia"
    }
   },
   "outputs": [],
   "source": [
    "from sklearn.feature_extraction.text import TfidfVectorizer\n",
    "from sklearn.linear_model import LogisticRegression\n",
    "import joblib\n",
    "\n",
    "# Sample training data\n",
    "X = [\"God loves the world\", \"Believe in Jesus\", \"Fear not\"]\n",
    "y = [\"love\", \"faith\", \"encouragement\"]\n",
    "\n",
    "# Vectorize\n",
    "vectorizer = TfidfVectorizer()\n",
    "X_vect = vectorizer.fit_transform(X)\n",
    "\n",
    "# Train model\n",
    "model = LogisticRegression()\n",
    "model.fit(X_vect, y)\n",
    "\n",
    "# Save model and vectorizer\n",
    "joblib.dump(model, \"../models/model.pkl\")\n",
    "joblib.dump(vectorizer, \"../models/vectorizer.pkl\")\n",
    "print(\"Model saved!\")\n"
   ]
  }
 ],
 "metadata": {
  "language_info": {
   "name": "python"
  }
 },
 "nbformat": 4,
 "nbformat_minor": 5
}
