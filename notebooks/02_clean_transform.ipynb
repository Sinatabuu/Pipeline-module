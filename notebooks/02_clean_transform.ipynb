{
 "cells": [
  {
   "cell_type": "code",
   "execution_count": null,
   "id": "3fe82aa3",
   "metadata": {},
   "outputs": [],
   "source": [
    "import pandas as pd\n",
    "import re\n",
    "\n",
    "# Load verse\n",
    "df = pd.read_csv(\"../data/raw/john3_16.csv\")\n",
    "text = df[\"text\"][0]\n",
    "print(\"Original:\", text)\n",
    "\n",
    "# Clean text\n",
    "cleaned = re.sub(r\"[^a-zA-Z\\s]\", \"\", text).lower()\n",
    "df[\"cleaned\"] = cleaned\n",
    "\n",
    "# Save cleaned\n",
    "df.to_csv(\"../data/processed/cleaned.csv\", index=False)\n",
    "print(\"Cleaned and saved to data/processed/\")\n"
   ]
  }
 ],
 "metadata": {
  "language_info": {
   "name": "python"
  }
 },
 "nbformat": 4,
 "nbformat_minor": 5
}
